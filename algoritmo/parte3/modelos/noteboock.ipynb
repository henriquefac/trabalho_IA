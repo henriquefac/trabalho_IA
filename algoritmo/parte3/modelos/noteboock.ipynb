{
 "cells": [
  {
   "cell_type": "markdown",
   "metadata": {},
   "source": [
    "$$\n",
    "f(x) = A \\cdot p + \\sum_{i=1}^p(x_i^2 - A  \\cdot \\cos(2\\cdot \\pi \\cdot x_i))\n",
    "$$"
   ]
  },
  {
   "cell_type": "code",
   "execution_count": 1,
   "metadata": {},
   "outputs": [],
   "source": [
    "import numpy as np\n",
    "# informações do problema, acima temos função objetiva para qualificar solução \n",
    "# p = 20 dimençõe\n",
    "# representação canônica de 15 bits\n",
    "# gera população de n indivíduos\n",
    "# função para converção de bits para sequência decimais\n",
    "# função de avaliação dos indivíduos f(x) + 1\n",
    "# método de seleçã pela roleta\n",
    "# percentual de recombinação (> 80%)\n",
    "# maneira derecombinar dois parentes"
   ]
  },
  {
   "cell_type": "code",
   "execution_count": 2,
   "metadata": {},
   "outputs": [],
   "source": [
    "# Função objetivo (f(x))\n",
    "def f_x(x, A=10):\n",
    "    return A * len(x) + np.sum(x**2 - A * np.cos(2 * np.pi * x))\n",
    "\n",
    "# Função de aptidão (Psi(x) = f(x) + 1)\n",
    "def psi(x, A=10):\n",
    "    return f_x(x, A) + 1"
   ]
  },
  {
   "cell_type": "code",
   "execution_count": 3,
   "metadata": {},
   "outputs": [],
   "source": [
    "# função para gera indivíduo para os parâmetros\n",
    "p = 20\n",
    "bit = 15\n",
    "# gerr indivíduo \n",
    "def cand():\n",
    "    return np.random.randint(0, 2, p* bit)\n",
    "\n",
    "# gerar população\n",
    "def colection(n):\n",
    "    return np.random.randint(0, 2, size = (n, p * bit))"
   ]
  },
  {
   "cell_type": "code",
   "execution_count": 27,
   "metadata": {},
   "outputs": [],
   "source": [
    "# função para converter bits para decimais dentro do limitie [-10, 10]\n",
    "def phi(segment, inf, sup):\n",
    "\n",
    "    decimal_value = 0\n",
    "    for i in range(len(segment)):\n",
    "        decimal_value += segment[i] * (2 ** (len(segment) - i - 1))\n",
    "    \n",
    "    max_val = 2 ** len(segment) - 1\n",
    "    real_value = inf + (sup - inf) * decimal_value / max_val\n",
    "    return real_value\n",
    "# função para segumentar um candidato e aplicar função de converção para as 20 vriáveis\n",
    "def convert(array_bist):\n",
    "    return np.array([phi(array_bist[i*bit: (i+1)*bit], -10, 10) for i in range(20)])\n",
    "\n",
    "# função ara aplicar convert em todos os candidatos d euma população\n",
    "def mas_convert(populacao):\n",
    "    return np.array(list(map(convert, populacao)))"
   ]
  },
  {
   "cell_type": "code",
   "execution_count": 18,
   "metadata": {},
   "outputs": [],
   "source": [
    "populacao = colection(10)\n",
    "conv_pop = mas_convert(populacao)\n"
   ]
  },
  {
   "cell_type": "code",
   "execution_count": 35,
   "metadata": {},
   "outputs": [],
   "source": [
    "def crossover(pai1, pai2, n_pontos):\n",
    "    pontos_corte = np.sort(np.random.choice(len(pai1), n_pontos, replace=False))\n",
    "    f1, f2 = np.copy(pai1), np.copy(pai2)\n",
    "\n",
    "    for i in range(n_pontos):\n",
    "        inicio = pontos_corte[i]\n",
    "        fim = pontos_corte[i+1] if i+1 < len(pontos_corte) else len(pai1)\n",
    "        \n",
    "        if i % 2 == 0:  # Troca segmentos nos filhos\n",
    "            f1[inicio:fim] = pai2[inicio:fim]\n",
    "            f2[inicio:fim] = pai1[inicio:fim]\n",
    "    \n",
    "    return f1, f2"
   ]
  },
  {
   "cell_type": "code",
   "execution_count": null,
   "metadata": {},
   "outputs": [],
   "source": [
    "# algoritmo de roleta\n",
    "def roleta(populacao, probabilidade):\n",
    "    r = np.random.uniform()\n",
    "    acumulado = 0.0\n",
    "    for i, prob in enumerate(probabilidade):\n",
    "        acumulado += prob\n",
    "        if acumulado > r:\n",
    "            return populacao[i]\n",
    "    return populacao[-1]"
   ]
  },
  {
   "cell_type": "code",
   "execution_count": null,
   "metadata": {},
   "outputs": [],
   "source": [
    "# criar uma nova geração a partir\n",
    "# recbe populacao atual e apitidao de cada um, pontos de crossover e taxa de recombinação\n",
    "def nova_geração(populacao, apitidao, n_cross, taxa = 0.85):\n",
    "    total_apitidao = np.sum(apitidao)\n",
    "    # gerar lista de probabiidade\n",
    "    probabilidade = [apt/total_apitidao for apt in apitidao]\n",
    "\n",
    "    nova_populacao = []\n",
    "    tamanho_populacao = len(populacao)\n",
    "    for _ in range(tamanho_populacao//2):\n",
    "        # erar os pais\n",
    "        pai1 = roleta(populacao, probabilidade)\n",
    "        pai2 = roleta(populacao, probabilidade)\n",
    "\n",
    "        # gerr os filhos\n",
    "        # varificar se tem crossover\n",
    "        if np.random.rand() < taxa:\n",
    "            f1, f2 = crossover(pai1, pai2, n_cross)\n",
    "        else:\n",
    "            f1, f2 = np.copy(pai1), np.copy(pai2)\n",
    "        nova_populacao.append(f1)\n",
    "        nova_populacao.append(f2)\n",
    "    return nova_populacao"
   ]
  },
  {
   "cell_type": "code",
   "execution_count": 36,
   "metadata": {},
   "outputs": [
    {
     "name": "stdout",
     "output_type": "stream",
     "text": [
      "1002.0800830484208\n",
      "832.6096379304691\n"
     ]
    }
   ],
   "source": [
    "# candicatos\n",
    "pai1 = cand()\n",
    "pai2 = cand()\n",
    "print(psi(convert(pai1)))\n",
    "print(psi(convert(pai2)))\n",
    "\n",
    "f1, f2 = crossover(pai1, pai2, 3)"
   ]
  },
  {
   "cell_type": "code",
   "execution_count": 37,
   "metadata": {},
   "outputs": [
    {
     "name": "stdout",
     "output_type": "stream",
     "text": [
      "960.7699690900206\n",
      "864.265991396514\n"
     ]
    }
   ],
   "source": [
    "print(psi(convert(f1)))\n",
    "print(psi(convert(f2)))"
   ]
  }
 ],
 "metadata": {
  "kernelspec": {
   "display_name": "Python 3",
   "language": "python",
   "name": "python3"
  },
  "language_info": {
   "codemirror_mode": {
    "name": "ipython",
    "version": 3
   },
   "file_extension": ".py",
   "mimetype": "text/x-python",
   "name": "python",
   "nbconvert_exporter": "python",
   "pygments_lexer": "ipython3",
   "version": "3.12.4"
  }
 },
 "nbformat": 4,
 "nbformat_minor": 2
}
