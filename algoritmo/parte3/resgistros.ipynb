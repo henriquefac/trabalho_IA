{
 "cells": [
  {
   "cell_type": "code",
   "execution_count": 1,
   "metadata": {},
   "outputs": [],
   "source": [
    "# importações\n",
    "from modelos.alg_genetico_bit import Alg_gen_bit\n",
    "from modelos.alg_genetico_dec import Alg_gen_dec\n",
    "from modelos.rodadas import Rodadas"
   ]
  },
  {
   "cell_type": "markdown",
   "metadata": {},
   "source": [
    "## Função de Rastigin\n",
    "$$\n",
    "f(x) = A \\cdot p + \\sum_{i=1}^p(x_i^2 - A  \\cdot \\cos(2\\cdot \\pi \\cdot x_i))\n",
    "$$\n"
   ]
  },
  {
   "cell_type": "markdown",
   "metadata": {},
   "source": [
    "## Objetivo\n",
    "\n",
    "Minimizar a função exposta utilizando os algoritmos genéticos desenvolvidos (`Alg_gen_bit`, `Alg_gen_dec`).\n",
    "\n",
    "- **Alg_gen_bit**: \n",
    "  - Criado implementando a representação canônica dos cromossomos.\n",
    "\n",
    "- **Alg_gen_dec**: \n",
    "  - Implementado com a representação cromossômica em ponto flutuante.\n"
   ]
  },
  {
   "cell_type": "code",
   "execution_count": 3,
   "metadata": {},
   "outputs": [],
   "source": [
    "# uso do algoritmo Alg_gen_bit\n",
    "alg_1 = Alg_gen_bit(\n",
    "    bit = 15,\n",
    "    pop_size= 100,\n",
    "    max_generation= 1000,\n",
    "    # as retrições são oferecidas pelo problema,\n",
    "    # nesse caso é [-10, 10] para cada cromossomo \n",
    "    restricoes=[-10, 10],\n",
    "    # também estabelecido pelo problema\n",
    "    crossover_rate=0.85,\n",
    "    mutation_rate=0.01,\n",
    "    # constante da função\n",
    "    A = 10,\n",
    "    # número de dimenções\n",
    "    p = 20,\n",
    "    # para o crossover, número de pontos que o cromossomo é dividido\n",
    "    # quando aplicado o crossover \n",
    "    n_cross= 2\n",
    ")"
   ]
  },
  {
   "cell_type": "code",
   "execution_count": 4,
   "metadata": {},
   "outputs": [
    {
     "name": "stdout",
     "output_type": "stream",
     "text": [
      "Melhor aptidão: 192.5509566981714\n",
      "Melhor inidivíduo (bits)\n",
      "[0 1 1 1 0 0 1 0 1 0 0 0 0 0 0 1 0 0 0 1 0 1 0 0 1 0 1 0 0 1 0 1 1 1 0 0 1\n",
      " 0 1 0 0 0 0 1 0 1 0 1 1 0 1 1 1 1 0 0 0 1 1 0 1 0 0 0 1 0 0 1 1 1 1 0 0 1\n",
      " 1 0 1 1 1 0 0 0 1 0 0 0 1 0 1 1 1 0 0 1 1 0 0 0 1 0 1 1 0 0 0 0 1 1 1 0 0\n",
      " 0 1 0 1 0 1 1 0 0 1 0 1 0 1 1 0 1 1 1 1 1 0 1 0 1 0 0 0 1 1 1 1 1 1 0 0 1\n",
      " 0 0 1 0 0 1 1 0 1 1 0 0 1 0 0 1 1 1 0 1 0 0 1 0 1 0 0 0 1 0 0 1 0 1 1 0 0\n",
      " 1 1 0 0 1 0 0 1 1 1 1 0 0 0 1 1 0 0 1 1 1 0 1 1 1 1 0 0 0 1 0 1 1 1 0 1 1\n",
      " 0 1 1 1 0 0 1 1 0 0 0 0 0 1 0 0 0 0 0 1 1 1 1 0 1 0 0 1 1 1 1 0 1 0 1 1 1\n",
      " 1 1 0 1 0 0 1 1 0 1 1 1 0 0 0 1 0 0 0 0 1 1 0 0 1 0 1 0 0 0 0 0 1 0 0 0 1\n",
      " 1 1 0 1]\n",
      "Melhor indivíduo (convertido)\n",
      "[-1.0544145   0.80660421 -1.05319376  4.34003723  0.77364422 -1.16489151\n",
      "  1.92907498 -1.14474929  3.59050264  1.23325297  2.12134159  2.89651173\n",
      " -2.00720237  1.01046785  0.9152501   1.88512833 -0.43122654 -0.21759697\n",
      "  0.65584277  0.17426069]\n"
     ]
    }
   ],
   "source": [
    "melhor, populacao = alg_1.executar()\n",
    "print(f\"Melhor aptidão: {alg_1.f_apt(alg_1.convert(melhor))}\")\n",
    "print(\"Melhor inidivíduo (bits)\")\n",
    "print(melhor)\n",
    "print(\"Melhor indivíduo (convertido)\")\n",
    "print(alg_1.convert(melhor))"
   ]
  },
  {
   "cell_type": "code",
   "execution_count": 5,
   "metadata": {},
   "outputs": [],
   "source": [
    "# Uso do algoritmo Alg_gen_dec\n",
    "alg_2 = Alg_gen_dec(\n",
    "    # indice de distribuição\n",
    "    eta = 1,\n",
    "    # tamanho da população (numero de indivíduos por populaçao)\n",
    "    pop_size= 100,\n",
    "    # número máximo de gerações\n",
    "    max_generation= 1000,\n",
    "    # restrições do problema\n",
    "    restricoes=[-10, 10],\n",
    "    # chance de acontecer crossover\n",
    "    crossover_rate= 0.85,\n",
    "    # chance de ocorrer mutação\n",
    "    mutation_rate= 0.01,\n",
    "    # constante da função\n",
    "    A = 10,\n",
    "    # número de dimenções\n",
    "    p = 20,\n",
    "    # escala de intencidade da mutação\n",
    "    sigma=0.1,\n",
    "    # número de indivíduos selecionados para torneio\n",
    "    tournament_size = 3\n",
    ")"
   ]
  },
  {
   "cell_type": "code",
   "execution_count": 6,
   "metadata": {},
   "outputs": [
    {
     "name": "stdout",
     "output_type": "stream",
     "text": [
      "Melhor aptidão: 97.45184488152945\n",
      "Melhor indivíduo:\n",
      "[ 2.92262630e+00 -2.24273398e-02 -1.95022622e+00  3.89422649e-02\n",
      " -1.14780211e+00 -2.97273573e+00 -1.01178837e+00  1.02303943e+00\n",
      "  4.02878730e+00 -2.04950773e+00  3.25646927e-04  2.07545463e+00\n",
      "  2.03646875e+00 -1.03158075e+00  3.09148219e+00  1.01512718e+00\n",
      "  3.02945234e+00  9.51994438e-01 -2.95582721e+00 -9.53677307e-01]\n"
     ]
    }
   ],
   "source": [
    "melhor, populacao = alg_2.executar()\n",
    "print(f\"Melhor aptidão: {alg_2.f_apt(melhor)}\")\n",
    "print(\"Melhor indivíduo:\")\n",
    "print(melhor)"
   ]
  },
  {
   "cell_type": "markdown",
   "metadata": {},
   "source": [
    "## 100 Rodada"
   ]
  },
  {
   "cell_type": "code",
   "execution_count": 2,
   "metadata": {},
   "outputs": [],
   "source": [
    "# aqui será aplicado 100 rodadas de cada algoritmo, para comparar o comportamento de ambos entre si\n",
    "# preparar rodadas\n",
    "\n",
    "rodadas = Rodadas(100)\n",
    "\n",
    "rodadas.init_alg_1(\n",
    "    bit = 15,\n",
    "    pop_size= 100,\n",
    "    max_generation= 1000,\n",
    "    # as retrições são oferecidas pelo problema,\n",
    "    # nesse caso é [-10, 10] para cada cromossomo \n",
    "    restricoes=[-10, 10],\n",
    "    # também estabelecido pelo problema\n",
    "    crossover_rate=0.85,\n",
    "    mutation_rate=0.01,\n",
    "    # constante da função\n",
    "    A = 10,\n",
    "    # número de dimenções\n",
    "    p = 20,\n",
    "    # para o crossover, número de pontos que o cromossomo é dividido\n",
    "    # quando aplicado o crossover \n",
    "    n_cross= 2\n",
    ")\n",
    "\n",
    "rodadas.init_alg_2(\n",
    "        # indice de distribuição\n",
    "    eta = 1,\n",
    "    # tamanho da população (numero de indivíduos por populaçao)\n",
    "    pop_size= 100,\n",
    "    # número máximo de gerações\n",
    "    max_generation= 1000,\n",
    "    # restrições do problema\n",
    "    restricoes=[-10, 10],\n",
    "    # chance de acontecer crossover\n",
    "    crossover_rate= 0.85,\n",
    "    # chance de ocorrer mutação\n",
    "    mutation_rate= 0.01,\n",
    "    # constante da função\n",
    "    A = 10,\n",
    "    # número de dimenções\n",
    "    p = 20,\n",
    "    # escala de intencidade da mutação\n",
    "    sigma=0.1,\n",
    "    # número de indivíduos selecionados para torneio\n",
    "    tournament_size = 3\n",
    ")"
   ]
  },
  {
   "cell_type": "code",
   "execution_count": 3,
   "metadata": {},
   "outputs": [
    {
     "ename": "ImportError",
     "evalue": "Missing optional dependency 'Jinja2'. DataFrame.style requires jinja2. Use pip or conda to install Jinja2.",
     "output_type": "error",
     "traceback": [
      "\u001b[1;31m---------------------------------------------------------------------------\u001b[0m",
      "\u001b[1;31mModuleNotFoundError\u001b[0m                       Traceback (most recent call last)",
      "File \u001b[1;32mc:\\Users\\henri\\miniconda3\\envs\\ia_2024\\Lib\\site-packages\\pandas\\compat\\_optional.py:135\u001b[0m, in \u001b[0;36mimport_optional_dependency\u001b[1;34m(name, extra, errors, min_version)\u001b[0m\n\u001b[0;32m    134\u001b[0m \u001b[38;5;28;01mtry\u001b[39;00m:\n\u001b[1;32m--> 135\u001b[0m     module \u001b[38;5;241m=\u001b[39m \u001b[43mimportlib\u001b[49m\u001b[38;5;241;43m.\u001b[39;49m\u001b[43mimport_module\u001b[49m\u001b[43m(\u001b[49m\u001b[43mname\u001b[49m\u001b[43m)\u001b[49m\n\u001b[0;32m    136\u001b[0m \u001b[38;5;28;01mexcept\u001b[39;00m \u001b[38;5;167;01mImportError\u001b[39;00m:\n",
      "File \u001b[1;32mc:\\Users\\henri\\miniconda3\\envs\\ia_2024\\Lib\\importlib\\__init__.py:90\u001b[0m, in \u001b[0;36mimport_module\u001b[1;34m(name, package)\u001b[0m\n\u001b[0;32m     89\u001b[0m         level \u001b[38;5;241m+\u001b[39m\u001b[38;5;241m=\u001b[39m \u001b[38;5;241m1\u001b[39m\n\u001b[1;32m---> 90\u001b[0m \u001b[38;5;28;01mreturn\u001b[39;00m \u001b[43m_bootstrap\u001b[49m\u001b[38;5;241;43m.\u001b[39;49m\u001b[43m_gcd_import\u001b[49m\u001b[43m(\u001b[49m\u001b[43mname\u001b[49m\u001b[43m[\u001b[49m\u001b[43mlevel\u001b[49m\u001b[43m:\u001b[49m\u001b[43m]\u001b[49m\u001b[43m,\u001b[49m\u001b[43m \u001b[49m\u001b[43mpackage\u001b[49m\u001b[43m,\u001b[49m\u001b[43m \u001b[49m\u001b[43mlevel\u001b[49m\u001b[43m)\u001b[49m\n",
      "File \u001b[1;32m<frozen importlib._bootstrap>:1387\u001b[0m, in \u001b[0;36m_gcd_import\u001b[1;34m(name, package, level)\u001b[0m\n",
      "File \u001b[1;32m<frozen importlib._bootstrap>:1360\u001b[0m, in \u001b[0;36m_find_and_load\u001b[1;34m(name, import_)\u001b[0m\n",
      "File \u001b[1;32m<frozen importlib._bootstrap>:1324\u001b[0m, in \u001b[0;36m_find_and_load_unlocked\u001b[1;34m(name, import_)\u001b[0m\n",
      "\u001b[1;31mModuleNotFoundError\u001b[0m: No module named 'jinja2'",
      "\nDuring handling of the above exception, another exception occurred:\n",
      "\u001b[1;31mImportError\u001b[0m                               Traceback (most recent call last)",
      "Cell \u001b[1;32mIn[3], line 2\u001b[0m\n\u001b[0;32m      1\u001b[0m \u001b[38;5;66;03m# começar as rodadas\u001b[39;00m\n\u001b[1;32m----> 2\u001b[0m \u001b[43mrodadas\u001b[49m\u001b[38;5;241;43m.\u001b[39;49m\u001b[43mrun\u001b[49m\u001b[43m(\u001b[49m\u001b[43m)\u001b[49m\n",
      "File \u001b[1;32mc:\\Users\\henri\\Documents\\pythonProjcs\\trabalho_ia\\algoritmo\\parte3\\modelos\\rodadas.py:49\u001b[0m, in \u001b[0;36mRodadas.run\u001b[1;34m(self)\u001b[0m\n\u001b[0;32m     46\u001b[0m     alg2_min\u001b[38;5;241m.\u001b[39mappend(np\u001b[38;5;241m.\u001b[39mmin(aptidoes_2))\n\u001b[0;32m     48\u001b[0m \u001b[38;5;66;03m# Tabelas comparativas\u001b[39;00m\n\u001b[1;32m---> 49\u001b[0m tabela_comparacao, tl \u001b[38;5;241m=\u001b[39m \u001b[38;5;28;43mself\u001b[39;49m\u001b[38;5;241;43m.\u001b[39;49m\u001b[43mcomparar_algoritmos\u001b[49m\u001b[43m(\u001b[49m\u001b[43malg1_max\u001b[49m\u001b[43m,\u001b[49m\u001b[43m \u001b[49m\u001b[43malg1_min\u001b[49m\u001b[43m,\u001b[49m\u001b[43m \u001b[49m\u001b[43malg2_max\u001b[49m\u001b[43m,\u001b[49m\u001b[43m \u001b[49m\u001b[43malg2_min\u001b[49m\u001b[43m)\u001b[49m\n\u001b[0;32m     50\u001b[0m \u001b[38;5;28mprint\u001b[39m(tabela_comparacao)\n\u001b[0;32m     51\u001b[0m \u001b[38;5;28mprint\u001b[39m(tl)\n",
      "File \u001b[1;32mc:\\Users\\henri\\Documents\\pythonProjcs\\trabalho_ia\\algoritmo\\parte3\\modelos\\rodadas.py:77\u001b[0m, in \u001b[0;36mRodadas.comparar_algoritmos\u001b[1;34m(self, alg1_max, alg1_min, alg2_max, alg2_min)\u001b[0m\n\u001b[0;32m     69\u001b[0m data \u001b[38;5;241m=\u001b[39m {\n\u001b[0;32m     70\u001b[0m     \u001b[38;5;124m'\u001b[39m\u001b[38;5;124mAlgoritmo\u001b[39m\u001b[38;5;124m'\u001b[39m: [\u001b[38;5;124m'\u001b[39m\u001b[38;5;124mAlgoritmo 1\u001b[39m\u001b[38;5;124m'\u001b[39m, \u001b[38;5;124m'\u001b[39m\u001b[38;5;124mAlgoritmo 2\u001b[39m\u001b[38;5;124m'\u001b[39m],\n\u001b[0;32m     71\u001b[0m     \u001b[38;5;124m'\u001b[39m\u001b[38;5;124mMenor Aptidão\u001b[39m\u001b[38;5;124m'\u001b[39m: [alg1_menor_apt, alg2_menor_apt],\n\u001b[1;32m   (...)\u001b[0m\n\u001b[0;32m     74\u001b[0m     \u001b[38;5;124m'\u001b[39m\u001b[38;5;124mDesvio-Padrão Aptidão\u001b[39m\u001b[38;5;124m'\u001b[39m: [alg1_std_apt, alg2_std_apt]\n\u001b[0;32m     75\u001b[0m }\n\u001b[0;32m     76\u001b[0m tabela_comparacao \u001b[38;5;241m=\u001b[39m pd\u001b[38;5;241m.\u001b[39mDataFrame(data)\n\u001b[1;32m---> 77\u001b[0m tabela_latex \u001b[38;5;241m=\u001b[39m \u001b[43mtabela_comparacao\u001b[49m\u001b[38;5;241;43m.\u001b[39;49m\u001b[43mto_latex\u001b[49m\u001b[43m(\u001b[49m\u001b[43mindex\u001b[49m\u001b[38;5;241;43m=\u001b[39;49m\u001b[38;5;28;43;01mFalse\u001b[39;49;00m\u001b[43m)\u001b[49m\n\u001b[0;32m     78\u001b[0m \u001b[38;5;28;01mreturn\u001b[39;00m tabela_comparacao, tabela_latex\n",
      "File \u001b[1;32mc:\\Users\\henri\\miniconda3\\envs\\ia_2024\\Lib\\site-packages\\pandas\\util\\_decorators.py:333\u001b[0m, in \u001b[0;36mdeprecate_nonkeyword_arguments.<locals>.decorate.<locals>.wrapper\u001b[1;34m(*args, **kwargs)\u001b[0m\n\u001b[0;32m    327\u001b[0m \u001b[38;5;28;01mif\u001b[39;00m \u001b[38;5;28mlen\u001b[39m(args) \u001b[38;5;241m>\u001b[39m num_allow_args:\n\u001b[0;32m    328\u001b[0m     warnings\u001b[38;5;241m.\u001b[39mwarn(\n\u001b[0;32m    329\u001b[0m         msg\u001b[38;5;241m.\u001b[39mformat(arguments\u001b[38;5;241m=\u001b[39m_format_argument_list(allow_args)),\n\u001b[0;32m    330\u001b[0m         \u001b[38;5;167;01mFutureWarning\u001b[39;00m,\n\u001b[0;32m    331\u001b[0m         stacklevel\u001b[38;5;241m=\u001b[39mfind_stack_level(),\n\u001b[0;32m    332\u001b[0m     )\n\u001b[1;32m--> 333\u001b[0m \u001b[38;5;28;01mreturn\u001b[39;00m \u001b[43mfunc\u001b[49m\u001b[43m(\u001b[49m\u001b[38;5;241;43m*\u001b[39;49m\u001b[43margs\u001b[49m\u001b[43m,\u001b[49m\u001b[43m \u001b[49m\u001b[38;5;241;43m*\u001b[39;49m\u001b[38;5;241;43m*\u001b[39;49m\u001b[43mkwargs\u001b[49m\u001b[43m)\u001b[49m\n",
      "File \u001b[1;32mc:\\Users\\henri\\miniconda3\\envs\\ia_2024\\Lib\\site-packages\\pandas\\core\\generic.py:3666\u001b[0m, in \u001b[0;36mNDFrame.to_latex\u001b[1;34m(self, buf, columns, header, index, na_rep, formatters, float_format, sparsify, index_names, bold_rows, column_format, longtable, escape, encoding, decimal, multicolumn, multicolumn_format, multirow, caption, label, position)\u001b[0m\n\u001b[0;32m   3644\u001b[0m     hide_\u001b[38;5;241m.\u001b[39mappend({\u001b[38;5;124m\"\u001b[39m\u001b[38;5;124mnames\u001b[39m\u001b[38;5;124m\"\u001b[39m: \u001b[38;5;28;01mTrue\u001b[39;00m, \u001b[38;5;124m\"\u001b[39m\u001b[38;5;124maxis\u001b[39m\u001b[38;5;124m\"\u001b[39m: \u001b[38;5;124m\"\u001b[39m\u001b[38;5;124mindex\u001b[39m\u001b[38;5;124m\"\u001b[39m})\n\u001b[0;32m   3646\u001b[0m render_kwargs_ \u001b[38;5;241m=\u001b[39m {\n\u001b[0;32m   3647\u001b[0m     \u001b[38;5;124m\"\u001b[39m\u001b[38;5;124mhrules\u001b[39m\u001b[38;5;124m\"\u001b[39m: \u001b[38;5;28;01mTrue\u001b[39;00m,\n\u001b[0;32m   3648\u001b[0m     \u001b[38;5;124m\"\u001b[39m\u001b[38;5;124msparse_index\u001b[39m\u001b[38;5;124m\"\u001b[39m: sparsify,\n\u001b[1;32m   (...)\u001b[0m\n\u001b[0;32m   3663\u001b[0m     \u001b[38;5;124m\"\u001b[39m\u001b[38;5;124mbold_rows\u001b[39m\u001b[38;5;124m\"\u001b[39m: bold_rows,\n\u001b[0;32m   3664\u001b[0m }\n\u001b[1;32m-> 3666\u001b[0m \u001b[38;5;28;01mreturn\u001b[39;00m \u001b[38;5;28;43mself\u001b[39;49m\u001b[38;5;241;43m.\u001b[39;49m\u001b[43m_to_latex_via_styler\u001b[49m\u001b[43m(\u001b[49m\n\u001b[0;32m   3667\u001b[0m \u001b[43m    \u001b[49m\u001b[43mbuf\u001b[49m\u001b[43m,\u001b[49m\n\u001b[0;32m   3668\u001b[0m \u001b[43m    \u001b[49m\u001b[43mhide\u001b[49m\u001b[38;5;241;43m=\u001b[39;49m\u001b[43mhide_\u001b[49m\u001b[43m,\u001b[49m\n\u001b[0;32m   3669\u001b[0m \u001b[43m    \u001b[49m\u001b[43mrelabel_index\u001b[49m\u001b[38;5;241;43m=\u001b[39;49m\u001b[43mrelabel_index_\u001b[49m\u001b[43m,\u001b[49m\n\u001b[0;32m   3670\u001b[0m \u001b[43m    \u001b[49m\u001b[38;5;28;43mformat\u001b[39;49m\u001b[38;5;241;43m=\u001b[39;49m\u001b[43m{\u001b[49m\u001b[38;5;124;43m\"\u001b[39;49m\u001b[38;5;124;43mformatter\u001b[39;49m\u001b[38;5;124;43m\"\u001b[39;49m\u001b[43m:\u001b[49m\u001b[43m \u001b[49m\u001b[43mformatters_\u001b[49m\u001b[43m,\u001b[49m\u001b[43m \u001b[49m\u001b[38;5;241;43m*\u001b[39;49m\u001b[38;5;241;43m*\u001b[39;49m\u001b[43mbase_format_\u001b[49m\u001b[43m}\u001b[49m\u001b[43m,\u001b[49m\n\u001b[0;32m   3671\u001b[0m \u001b[43m    \u001b[49m\u001b[43mformat_index\u001b[49m\u001b[38;5;241;43m=\u001b[39;49m\u001b[43mformat_index_\u001b[49m\u001b[43m,\u001b[49m\n\u001b[0;32m   3672\u001b[0m \u001b[43m    \u001b[49m\u001b[43mrender_kwargs\u001b[49m\u001b[38;5;241;43m=\u001b[39;49m\u001b[43mrender_kwargs_\u001b[49m\u001b[43m,\u001b[49m\n\u001b[0;32m   3673\u001b[0m \u001b[43m\u001b[49m\u001b[43m)\u001b[49m\n",
      "File \u001b[1;32mc:\\Users\\henri\\miniconda3\\envs\\ia_2024\\Lib\\site-packages\\pandas\\core\\generic.py:3723\u001b[0m, in \u001b[0;36mNDFrame._to_latex_via_styler\u001b[1;34m(self, buf, hide, relabel_index, format, format_index, render_kwargs)\u001b[0m\n\u001b[0;32m   3675\u001b[0m \u001b[38;5;129m@final\u001b[39m\n\u001b[0;32m   3676\u001b[0m \u001b[38;5;28;01mdef\u001b[39;00m \u001b[38;5;21m_to_latex_via_styler\u001b[39m(\n\u001b[0;32m   3677\u001b[0m     \u001b[38;5;28mself\u001b[39m,\n\u001b[1;32m   (...)\u001b[0m\n\u001b[0;32m   3684\u001b[0m     render_kwargs: \u001b[38;5;28mdict\u001b[39m \u001b[38;5;241m|\u001b[39m \u001b[38;5;28;01mNone\u001b[39;00m \u001b[38;5;241m=\u001b[39m \u001b[38;5;28;01mNone\u001b[39;00m,\n\u001b[0;32m   3685\u001b[0m ):\n\u001b[0;32m   3686\u001b[0m \u001b[38;5;250m    \u001b[39m\u001b[38;5;124;03m\"\"\"\u001b[39;00m\n\u001b[0;32m   3687\u001b[0m \u001b[38;5;124;03m    Render object to a LaTeX tabular, longtable, or nested table.\u001b[39;00m\n\u001b[0;32m   3688\u001b[0m \n\u001b[1;32m   (...)\u001b[0m\n\u001b[0;32m   3721\u001b[0m \u001b[38;5;124;03m        If buf is None, returns the result as a string. Otherwise returns None.\u001b[39;00m\n\u001b[0;32m   3722\u001b[0m \u001b[38;5;124;03m    \"\"\"\u001b[39;00m\n\u001b[1;32m-> 3723\u001b[0m     \u001b[38;5;28;01mfrom\u001b[39;00m \u001b[38;5;21;01mpandas\u001b[39;00m\u001b[38;5;21;01m.\u001b[39;00m\u001b[38;5;21;01mio\u001b[39;00m\u001b[38;5;21;01m.\u001b[39;00m\u001b[38;5;21;01mformats\u001b[39;00m\u001b[38;5;21;01m.\u001b[39;00m\u001b[38;5;21;01mstyle\u001b[39;00m \u001b[38;5;28;01mimport\u001b[39;00m Styler\n\u001b[0;32m   3725\u001b[0m     \u001b[38;5;28mself\u001b[39m \u001b[38;5;241m=\u001b[39m cast(\u001b[38;5;124m\"\u001b[39m\u001b[38;5;124mDataFrame\u001b[39m\u001b[38;5;124m\"\u001b[39m, \u001b[38;5;28mself\u001b[39m)\n\u001b[0;32m   3726\u001b[0m     styler \u001b[38;5;241m=\u001b[39m Styler(\u001b[38;5;28mself\u001b[39m, uuid\u001b[38;5;241m=\u001b[39m\u001b[38;5;124m\"\u001b[39m\u001b[38;5;124m\"\u001b[39m)\n",
      "File \u001b[1;32mc:\\Users\\henri\\miniconda3\\envs\\ia_2024\\Lib\\site-packages\\pandas\\io\\formats\\style.py:44\u001b[0m\n\u001b[0;32m     40\u001b[0m \u001b[38;5;28;01mfrom\u001b[39;00m \u001b[38;5;21;01mpandas\u001b[39;00m\u001b[38;5;21;01m.\u001b[39;00m\u001b[38;5;21;01mcore\u001b[39;00m\u001b[38;5;21;01m.\u001b[39;00m\u001b[38;5;21;01mshared_docs\u001b[39;00m \u001b[38;5;28;01mimport\u001b[39;00m _shared_docs\n\u001b[0;32m     42\u001b[0m \u001b[38;5;28;01mfrom\u001b[39;00m \u001b[38;5;21;01mpandas\u001b[39;00m\u001b[38;5;21;01m.\u001b[39;00m\u001b[38;5;21;01mio\u001b[39;00m\u001b[38;5;21;01m.\u001b[39;00m\u001b[38;5;21;01mformats\u001b[39;00m\u001b[38;5;21;01m.\u001b[39;00m\u001b[38;5;21;01mformat\u001b[39;00m \u001b[38;5;28;01mimport\u001b[39;00m save_to_buffer\n\u001b[1;32m---> 44\u001b[0m jinja2 \u001b[38;5;241m=\u001b[39m \u001b[43mimport_optional_dependency\u001b[49m\u001b[43m(\u001b[49m\u001b[38;5;124;43m\"\u001b[39;49m\u001b[38;5;124;43mjinja2\u001b[39;49m\u001b[38;5;124;43m\"\u001b[39;49m\u001b[43m,\u001b[49m\u001b[43m \u001b[49m\u001b[43mextra\u001b[49m\u001b[38;5;241;43m=\u001b[39;49m\u001b[38;5;124;43m\"\u001b[39;49m\u001b[38;5;124;43mDataFrame.style requires jinja2.\u001b[39;49m\u001b[38;5;124;43m\"\u001b[39;49m\u001b[43m)\u001b[49m\n\u001b[0;32m     46\u001b[0m \u001b[38;5;28;01mfrom\u001b[39;00m \u001b[38;5;21;01mpandas\u001b[39;00m\u001b[38;5;21;01m.\u001b[39;00m\u001b[38;5;21;01mio\u001b[39;00m\u001b[38;5;21;01m.\u001b[39;00m\u001b[38;5;21;01mformats\u001b[39;00m\u001b[38;5;21;01m.\u001b[39;00m\u001b[38;5;21;01mstyle_render\u001b[39;00m \u001b[38;5;28;01mimport\u001b[39;00m (\n\u001b[0;32m     47\u001b[0m     CSSProperties,\n\u001b[0;32m     48\u001b[0m     CSSStyles,\n\u001b[1;32m   (...)\u001b[0m\n\u001b[0;32m     56\u001b[0m     refactor_levels,\n\u001b[0;32m     57\u001b[0m )\n\u001b[0;32m     59\u001b[0m \u001b[38;5;28;01mif\u001b[39;00m TYPE_CHECKING:\n",
      "File \u001b[1;32mc:\\Users\\henri\\miniconda3\\envs\\ia_2024\\Lib\\site-packages\\pandas\\compat\\_optional.py:138\u001b[0m, in \u001b[0;36mimport_optional_dependency\u001b[1;34m(name, extra, errors, min_version)\u001b[0m\n\u001b[0;32m    136\u001b[0m \u001b[38;5;28;01mexcept\u001b[39;00m \u001b[38;5;167;01mImportError\u001b[39;00m:\n\u001b[0;32m    137\u001b[0m     \u001b[38;5;28;01mif\u001b[39;00m errors \u001b[38;5;241m==\u001b[39m \u001b[38;5;124m\"\u001b[39m\u001b[38;5;124mraise\u001b[39m\u001b[38;5;124m\"\u001b[39m:\n\u001b[1;32m--> 138\u001b[0m         \u001b[38;5;28;01mraise\u001b[39;00m \u001b[38;5;167;01mImportError\u001b[39;00m(msg)\n\u001b[0;32m    139\u001b[0m     \u001b[38;5;28;01mreturn\u001b[39;00m \u001b[38;5;28;01mNone\u001b[39;00m\n\u001b[0;32m    141\u001b[0m \u001b[38;5;66;03m# Handle submodules: if we have submodule, grab parent module from sys.modules\u001b[39;00m\n",
      "\u001b[1;31mImportError\u001b[0m: Missing optional dependency 'Jinja2'. DataFrame.style requires jinja2. Use pip or conda to install Jinja2."
     ]
    }
   ],
   "source": [
    "# começar as rodadas\n",
    "rodadas.run()"
   ]
  }
 ],
 "metadata": {
  "kernelspec": {
   "display_name": "ia_2024",
   "language": "python",
   "name": "python3"
  },
  "language_info": {
   "codemirror_mode": {
    "name": "ipython",
    "version": 3
   },
   "file_extension": ".py",
   "mimetype": "text/x-python",
   "name": "python",
   "nbconvert_exporter": "python",
   "pygments_lexer": "ipython3",
   "version": "3.12.4"
  }
 },
 "nbformat": 4,
 "nbformat_minor": 2
}
